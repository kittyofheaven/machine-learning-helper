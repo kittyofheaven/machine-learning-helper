{
  "nbformat": 4,
  "nbformat_minor": 0,
  "metadata": {
    "colab": {
      "name": "Machine_Learning_Helper.ipynb",
      "provenance": [],
      "collapsed_sections": [],
      "authorship_tag": "ABX9TyPlOUn4RquUuscmK1j/tiWz",
      "include_colab_link": true
    },
    "kernelspec": {
      "name": "python3",
      "display_name": "Python 3"
    },
    "language_info": {
      "name": "python"
    }
  },
  "cells": [
    {
      "cell_type": "markdown",
      "metadata": {
        "id": "view-in-github",
        "colab_type": "text"
      },
      "source": [
        "<a href=\"https://colab.research.google.com/github/kittyofheaven/machine-learning-helper/blob/main/Machine_Learning_Helper.ipynb\" target=\"_parent\"><img src=\"https://colab.research.google.com/assets/colab-badge.svg\" alt=\"Open In Colab\"/></a>"
      ]
    },
    {
      "cell_type": "markdown",
      "source": [
        "# Machine Learning Helper\n",
        "by kittyofheaven aka hazel handrata"
      ],
      "metadata": {
        "id": "w_uYa23Qjiz1"
      }
    },
    {
      "cell_type": "code",
      "source": [
        "import pandas as pd\n",
        "import numpy as np\n",
        "import tensorflow as tf"
      ],
      "metadata": {
        "id": "NADXKSkOjzPf"
      },
      "execution_count": 2,
      "outputs": []
    },
    {
      "cell_type": "markdown",
      "source": [
        "# Tensorflow basic"
      ],
      "metadata": {
        "id": "E3F2r2W_dAih"
      }
    },
    {
      "cell_type": "code",
      "source": [
        "a =tf.Variable([0,0,0]) # making variable from tensor or vector\n",
        "a = tf.constant([0,0,0]) # making constant from tensor or vector\n",
        "a.ndim # check tensor rank\n",
        "a.shape # check tensor shape\n",
        "tf.size(a) # check tensor size\n",
        "a.dtype # checking tensor data type\n",
        "a = tf.cast(a, dtype=tf.int16) # changing datatype\n",
        "\n",
        "tf.random.set_seed(42) # to set random global seed\n",
        "random_tf = tf.random.uniform(shape=[5,300], minval=0, maxval=1) # min & max value determine minimum & maximum value the tf random will have\n",
        "\n",
        "not_shuffled = tf.constant([[11,12,],\n",
        "                            [1,3,],\n",
        "                            [4,5,],])\n",
        "shuffled = tf.random.shuffle(not_shuffled) # to shuffle a tensor\n",
        "\n",
        "A = tf.zeros(shape=(2,3,4)) # make value = 1 for all value in tensor\n",
        "B = tf.ones(shape=(2,3,4,5)) # make value = 0 for all value in tensor\n",
        "\n",
        "some_tensor = tf.constant([[[0,0,0,0]]]) # shape = [1,1,4]\n",
        "some_tensor_squeezed = tf.squeeze(some_tensor) # shape = [4], so tf.squeeze is deleting all 1 shape dimension\n",
        "some_tensor_squeezed.shape\n",
        "\n",
        "some_list = [0,1,2,3] #for R G B W\n",
        "A = tf.one_hot(some_list, depth=4) #depth is basicly if 3 then 3x3 if it 4 then 4x4 matrix\n",
        "B = tf.one_hot(some_list, depth=5, on_value='on', off_value='off') # tf one hot encode to make a matrix 0 (off_matrix) and 1 (on_matrix)\n",
        "\n",
        "# get the minimum, maximum, mean, sum of a tensor\n",
        "X = tf.constant(np.random.randint(0,100, size=50))\n",
        "Y = tf.random.normal(shape=(50,))\n",
        "print(tf.reduce_min(X)) # get the minimum X\n",
        "print(tf.reduce_max(X)) # get the maximum X\n",
        "print(tf.reduce_min(Y)) # get the minimum Y\n",
        "print(tf.reduce_max(Y)) # get the maximum Y\n",
        "print('\\nMEAN \\n',tf.reduce_mean(X), tf.reduce_mean(Y)) # get the mean\n",
        "print('\\nSUM \\n',tf.reduce_sum(X), tf.reduce_sum(Y)) # get the sum"
      ],
      "metadata": {
        "id": "TudU6AVWdGk1"
      },
      "execution_count": null,
      "outputs": []
    },
    {
      "cell_type": "markdown",
      "source": [
        "# Pandas basic"
      ],
      "metadata": {
        "id": "otA9kWoP7zsv"
      }
    },
    {
      "cell_type": "code",
      "source": [
        "# df = pd.read_csv(\"your_csv_file.csv\") # to read csv data and convert it into pd data frame\n",
        "df = pd.DataFrame({'key_1':[\"list\", \"of\", \"ur \", \"data\"],'key_2': [\"list\", \"of\", \"ur \", \"data\"], 'Key_3':'this is column'}) # making pd dataframe\n",
        "df = pd.Series([1, 2, 3, 4, 5]) # making pd series \n",
        "df = pd.Series([30, 35, 40], index=['2015 Sales', '2016 Sales', '2017 Sales'], name='Product A') # making pd series with index\n",
        "df.head() # displaying top 5 data (they call it head)\n",
        "\n",
        "\n",
        "# Indexing\n",
        "df = pd.DataFrame({'key_1':[\"list\", \"of\", \"ur \", \"data\"],'key_2': [\"list\", \"of\", \"ur \", \"data\"], 'Key_3':'this is column'}) \n",
        "target = df[\"key_1\"][2] # this use a key to list a column & use index to find the target on the column\n",
        "target1 = df.loc[:5, 'key_1'] # this use a index to list a row & use key to find the target on the row\n",
        "target2 = df.loc[1, \"key_2\"] # this use a index to list a row & use index to find the target on the row\n",
        "target2 = df.iloc[1,1] # this use a index to list a row & use index to find the target on the row\n",
        "target, target1, target2"
      ],
      "metadata": {
        "colab": {
          "base_uri": "https://localhost:8080/"
        },
        "id": "NnTaUSBt76Ow",
        "outputId": "832680de-d205-4d39-e861-38f555f4da9d"
      },
      "execution_count": 6,
      "outputs": [
        {
          "output_type": "execute_result",
          "data": {
            "text/plain": [
              "('ur ', 0    list\n",
              " 1      of\n",
              " 2     ur \n",
              " 3    data\n",
              " Name: key_1, dtype: object, 'of')"
            ]
          },
          "metadata": {},
          "execution_count": 6
        }
      ]
    },
    {
      "cell_type": "markdown",
      "source": [
        "# Importing Datasets"
      ],
      "metadata": {
        "id": "e_N0EPe7jsZo"
      }
    },
    {
      "cell_type": "code",
      "source": [
        "!wget https://your-zip-link.zip"
      ],
      "metadata": {
        "id": "yguMvfNqdfr2"
      },
      "execution_count": null,
      "outputs": []
    },
    {
      "cell_type": "markdown",
      "source": [
        "## if u're using kaggle to download datasets "
      ],
      "metadata": {
        "id": "w1n5FzqukIGD"
      }
    },
    {
      "cell_type": "code",
      "source": [
        "!pip install -q kaggle\n",
        "\n",
        "from google.colab import files #import kaggle.json\n",
        "files.upload() # upload your kaggle json here, u can get it from your kaggle profile\n",
        "\n",
        "!mkdir ~/.kaggle\n",
        "!cp kaggle.json ~/.kaggle/\n",
        "\n",
        "!chmod 600 ~/.kaggle/kaggle.json\n",
        "\n",
        "!kaggle datasets list\n",
        "!kaggle datasets download -d alxmamaev/flowers-recognition # download the datasets here "
      ],
      "metadata": {
        "id": "ej9kmdrTk11K"
      },
      "execution_count": null,
      "outputs": []
    },
    {
      "cell_type": "markdown",
      "source": [
        "## now import the helper function \n",
        "you can get the helper function at the repo where you found this notebook, or you can go to https://github.com/mrdbourke/tensorflow-deep-learning/tree/main/extras this link"
      ],
      "metadata": {
        "id": "Hf_f4W4dk2jW"
      }
    },
    {
      "cell_type": "code",
      "source": [
        "!wget https://raw.githubusercontent.com/kittyofheaven/machine-learning-helper/main/helper_functions.py #dont forget to use the raw one"
      ],
      "metadata": {
        "colab": {
          "base_uri": "https://localhost:8080/"
        },
        "id": "bN2xyXDdlPCB",
        "outputId": "6d399218-5b1a-4a86-d177-d61b76df1791"
      },
      "execution_count": null,
      "outputs": [
        {
          "output_type": "stream",
          "name": "stdout",
          "text": [
            "--2021-12-16 09:36:02--  https://raw.githubusercontent.com/kittyofheaven/machine-learning-helper/main/helper_functions.py\n",
            "Resolving raw.githubusercontent.com (raw.githubusercontent.com)... 185.199.108.133, 185.199.111.133, 185.199.109.133, ...\n",
            "Connecting to raw.githubusercontent.com (raw.githubusercontent.com)|185.199.108.133|:443... connected.\n",
            "HTTP request sent, awaiting response... 200 OK\n",
            "Length: 11325 (11K) [text/plain]\n",
            "Saving to: ‘helper_functions.py’\n",
            "\n",
            "\rhelper_functions.py   0%[                    ]       0  --.-KB/s               \rhelper_functions.py 100%[===================>]  11.06K  --.-KB/s    in 0s      \n",
            "\n",
            "2021-12-16 09:36:02 (68.5 MB/s) - ‘helper_functions.py’ saved [11325/11325]\n",
            "\n"
          ]
        }
      ]
    },
    {
      "cell_type": "markdown",
      "source": [
        "### now import the functon u wanna use "
      ],
      "metadata": {
        "id": "o22NracXllSl"
      }
    },
    {
      "cell_type": "code",
      "source": [
        "from helper_functions import unzip_data, create_tensorboard_callback, plot_loss_curves, compare_historys\n",
        "# u can read the docs in the source code"
      ],
      "metadata": {
        "id": "attvpm9OltTX"
      },
      "execution_count": null,
      "outputs": []
    },
    {
      "cell_type": "markdown",
      "source": [
        "## unzip the datasets"
      ],
      "metadata": {
        "id": "5KrL2S3ymaT5"
      }
    },
    {
      "cell_type": "code",
      "source": [
        "unzip_data(\"your_zip_file.zip\")"
      ],
      "metadata": {
        "id": "TzrKfLNOmkL3"
      },
      "execution_count": null,
      "outputs": []
    },
    {
      "cell_type": "markdown",
      "source": [
        "# Visualizing your data"
      ],
      "metadata": {
        "id": "prIXpHVOmrla"
      }
    },
    {
      "cell_type": "code",
      "source": [
        "df = pd.DataFrame({'key_1':[\"list\", \"of\", \"ur \", \"data\"],'key_2': [\"list\", \"of\", \"ur \", \"data\"], 'Key_3':'this is column'})\n",
        "df"
      ],
      "metadata": {
        "colab": {
          "base_uri": "https://localhost:8080/",
          "height": 175
        },
        "id": "gETUo8cAm7Y7",
        "outputId": "6d0e39d9-f24f-4640-d98c-d2cc3b021adf"
      },
      "execution_count": 7,
      "outputs": [
        {
          "output_type": "execute_result",
          "data": {
            "text/html": [
              "\n",
              "  <div id=\"df-6a3f978e-6c99-47de-a223-43abb37e3e18\">\n",
              "    <div class=\"colab-df-container\">\n",
              "      <div>\n",
              "<style scoped>\n",
              "    .dataframe tbody tr th:only-of-type {\n",
              "        vertical-align: middle;\n",
              "    }\n",
              "\n",
              "    .dataframe tbody tr th {\n",
              "        vertical-align: top;\n",
              "    }\n",
              "\n",
              "    .dataframe thead th {\n",
              "        text-align: right;\n",
              "    }\n",
              "</style>\n",
              "<table border=\"1\" class=\"dataframe\">\n",
              "  <thead>\n",
              "    <tr style=\"text-align: right;\">\n",
              "      <th></th>\n",
              "      <th>key_1</th>\n",
              "      <th>key_2</th>\n",
              "      <th>Key_3</th>\n",
              "    </tr>\n",
              "  </thead>\n",
              "  <tbody>\n",
              "    <tr>\n",
              "      <th>0</th>\n",
              "      <td>list</td>\n",
              "      <td>list</td>\n",
              "      <td>this is column</td>\n",
              "    </tr>\n",
              "    <tr>\n",
              "      <th>1</th>\n",
              "      <td>of</td>\n",
              "      <td>of</td>\n",
              "      <td>this is column</td>\n",
              "    </tr>\n",
              "    <tr>\n",
              "      <th>2</th>\n",
              "      <td>ur</td>\n",
              "      <td>ur</td>\n",
              "      <td>this is column</td>\n",
              "    </tr>\n",
              "    <tr>\n",
              "      <th>3</th>\n",
              "      <td>data</td>\n",
              "      <td>data</td>\n",
              "      <td>this is column</td>\n",
              "    </tr>\n",
              "  </tbody>\n",
              "</table>\n",
              "</div>\n",
              "      <button class=\"colab-df-convert\" onclick=\"convertToInteractive('df-6a3f978e-6c99-47de-a223-43abb37e3e18')\"\n",
              "              title=\"Convert this dataframe to an interactive table.\"\n",
              "              style=\"display:none;\">\n",
              "        \n",
              "  <svg xmlns=\"http://www.w3.org/2000/svg\" height=\"24px\"viewBox=\"0 0 24 24\"\n",
              "       width=\"24px\">\n",
              "    <path d=\"M0 0h24v24H0V0z\" fill=\"none\"/>\n",
              "    <path d=\"M18.56 5.44l.94 2.06.94-2.06 2.06-.94-2.06-.94-.94-2.06-.94 2.06-2.06.94zm-11 1L8.5 8.5l.94-2.06 2.06-.94-2.06-.94L8.5 2.5l-.94 2.06-2.06.94zm10 10l.94 2.06.94-2.06 2.06-.94-2.06-.94-.94-2.06-.94 2.06-2.06.94z\"/><path d=\"M17.41 7.96l-1.37-1.37c-.4-.4-.92-.59-1.43-.59-.52 0-1.04.2-1.43.59L10.3 9.45l-7.72 7.72c-.78.78-.78 2.05 0 2.83L4 21.41c.39.39.9.59 1.41.59.51 0 1.02-.2 1.41-.59l7.78-7.78 2.81-2.81c.8-.78.8-2.07 0-2.86zM5.41 20L4 18.59l7.72-7.72 1.47 1.35L5.41 20z\"/>\n",
              "  </svg>\n",
              "      </button>\n",
              "      \n",
              "  <style>\n",
              "    .colab-df-container {\n",
              "      display:flex;\n",
              "      flex-wrap:wrap;\n",
              "      gap: 12px;\n",
              "    }\n",
              "\n",
              "    .colab-df-convert {\n",
              "      background-color: #E8F0FE;\n",
              "      border: none;\n",
              "      border-radius: 50%;\n",
              "      cursor: pointer;\n",
              "      display: none;\n",
              "      fill: #1967D2;\n",
              "      height: 32px;\n",
              "      padding: 0 0 0 0;\n",
              "      width: 32px;\n",
              "    }\n",
              "\n",
              "    .colab-df-convert:hover {\n",
              "      background-color: #E2EBFA;\n",
              "      box-shadow: 0px 1px 2px rgba(60, 64, 67, 0.3), 0px 1px 3px 1px rgba(60, 64, 67, 0.15);\n",
              "      fill: #174EA6;\n",
              "    }\n",
              "\n",
              "    [theme=dark] .colab-df-convert {\n",
              "      background-color: #3B4455;\n",
              "      fill: #D2E3FC;\n",
              "    }\n",
              "\n",
              "    [theme=dark] .colab-df-convert:hover {\n",
              "      background-color: #434B5C;\n",
              "      box-shadow: 0px 1px 3px 1px rgba(0, 0, 0, 0.15);\n",
              "      filter: drop-shadow(0px 1px 2px rgba(0, 0, 0, 0.3));\n",
              "      fill: #FFFFFF;\n",
              "    }\n",
              "  </style>\n",
              "\n",
              "      <script>\n",
              "        const buttonEl =\n",
              "          document.querySelector('#df-6a3f978e-6c99-47de-a223-43abb37e3e18 button.colab-df-convert');\n",
              "        buttonEl.style.display =\n",
              "          google.colab.kernel.accessAllowed ? 'block' : 'none';\n",
              "\n",
              "        async function convertToInteractive(key) {\n",
              "          const element = document.querySelector('#df-6a3f978e-6c99-47de-a223-43abb37e3e18');\n",
              "          const dataTable =\n",
              "            await google.colab.kernel.invokeFunction('convertToInteractive',\n",
              "                                                     [key], {});\n",
              "          if (!dataTable) return;\n",
              "\n",
              "          const docLinkHtml = 'Like what you see? Visit the ' +\n",
              "            '<a target=\"_blank\" href=https://colab.research.google.com/notebooks/data_table.ipynb>data table notebook</a>'\n",
              "            + ' to learn more about interactive tables.';\n",
              "          element.innerHTML = '';\n",
              "          dataTable['output_type'] = 'display_data';\n",
              "          await google.colab.output.renderOutput(dataTable, element);\n",
              "          const docLink = document.createElement('div');\n",
              "          docLink.innerHTML = docLinkHtml;\n",
              "          element.appendChild(docLink);\n",
              "        }\n",
              "      </script>\n",
              "    </div>\n",
              "  </div>\n",
              "  "
            ],
            "text/plain": [
              "  key_1 key_2           Key_3\n",
              "0  list  list  this is column\n",
              "1    of    of  this is column\n",
              "2   ur    ur   this is column\n",
              "3  data  data  this is column"
            ]
          },
          "metadata": {},
          "execution_count": 7
        }
      ]
    },
    {
      "cell_type": "code",
      "source": [
        "df.key_1.value_counts() # to check is the data balance or not"
      ],
      "metadata": {
        "colab": {
          "base_uri": "https://localhost:8080/"
        },
        "id": "1leNnUGN7RY1",
        "outputId": "e4b4d3f5-186d-4d5a-df38-31d5bfbcab55"
      },
      "execution_count": 8,
      "outputs": [
        {
          "output_type": "execute_result",
          "data": {
            "text/plain": [
              "data    1\n",
              "of      1\n",
              "list    1\n",
              "ur      1\n",
              "Name: key_1, dtype: int64"
            ]
          },
          "metadata": {},
          "execution_count": 8
        }
      ]
    },
    {
      "cell_type": "markdown",
      "source": [
        "if you think your data is not balanced u can use this article https://www.tensorflow.org/tutorials/structured_data/imbalanced_data"
      ],
      "metadata": {
        "id": "eMzH4tCi726Y"
      }
    },
    {
      "cell_type": "markdown",
      "source": [
        "# Preparing datasets"
      ],
      "metadata": {
        "id": "HG_1t1bAn5_n"
      }
    },
    {
      "cell_type": "markdown",
      "source": [
        "## shufling data"
      ],
      "metadata": {
        "id": "bV651r_vowUX"
      }
    },
    {
      "cell_type": "code",
      "source": [
        "df_shuffled = df.sample(frac=1, random_state=42) #frac = 1 mean 100%, klo 0.1 ya 10% berarti\n",
        "df_shuffled"
      ],
      "metadata": {
        "colab": {
          "base_uri": "https://localhost:8080/",
          "height": 175
        },
        "id": "t6bSlPTjoJFL",
        "outputId": "5db2b876-ce19-4e76-886d-c2586a28a6c7"
      },
      "execution_count": null,
      "outputs": [
        {
          "output_type": "execute_result",
          "data": {
            "text/html": [
              "<div>\n",
              "<style scoped>\n",
              "    .dataframe tbody tr th:only-of-type {\n",
              "        vertical-align: middle;\n",
              "    }\n",
              "\n",
              "    .dataframe tbody tr th {\n",
              "        vertical-align: top;\n",
              "    }\n",
              "\n",
              "    .dataframe thead th {\n",
              "        text-align: right;\n",
              "    }\n",
              "</style>\n",
              "<table border=\"1\" class=\"dataframe\">\n",
              "  <thead>\n",
              "    <tr style=\"text-align: right;\">\n",
              "      <th></th>\n",
              "      <th>key_1</th>\n",
              "      <th>key_2</th>\n",
              "      <th>Key_3</th>\n",
              "    </tr>\n",
              "  </thead>\n",
              "  <tbody>\n",
              "    <tr>\n",
              "      <th>1</th>\n",
              "      <td>of</td>\n",
              "      <td>of</td>\n",
              "      <td>this is column</td>\n",
              "    </tr>\n",
              "    <tr>\n",
              "      <th>3</th>\n",
              "      <td>data</td>\n",
              "      <td>data</td>\n",
              "      <td>this is column</td>\n",
              "    </tr>\n",
              "    <tr>\n",
              "      <th>0</th>\n",
              "      <td>list</td>\n",
              "      <td>list</td>\n",
              "      <td>this is column</td>\n",
              "    </tr>\n",
              "    <tr>\n",
              "      <th>2</th>\n",
              "      <td>ur</td>\n",
              "      <td>ur</td>\n",
              "      <td>this is column</td>\n",
              "    </tr>\n",
              "  </tbody>\n",
              "</table>\n",
              "</div>"
            ],
            "text/plain": [
              "  key_1 key_2           Key_3\n",
              "1    of    of  this is column\n",
              "3  data  data  this is column\n",
              "0  list  list  this is column\n",
              "2   ur    ur   this is column"
            ]
          },
          "metadata": {},
          "execution_count": 15
        }
      ]
    },
    {
      "cell_type": "markdown",
      "source": [
        "## managing data with pandas"
      ],
      "metadata": {
        "id": "KshbT_Wap1je"
      }
    },
    {
      "cell_type": "code",
      "source": [
        "X = df_shuffled['key_1'] # this use index to list a column\n",
        "X1 = df_shuffled.loc[0] # this use index to list a row\n",
        "X, X1"
      ],
      "metadata": {
        "colab": {
          "base_uri": "https://localhost:8080/"
        },
        "id": "WxpcBdZjpGfl",
        "outputId": "b4755c85-81ca-42cb-ee1e-24d98cbf062b"
      },
      "execution_count": null,
      "outputs": [
        {
          "output_type": "execute_result",
          "data": {
            "text/plain": [
              "(1      of\n",
              " 3    data\n",
              " 0    list\n",
              " 2     ur \n",
              " Name: key_1, dtype: object, key_1              list\n",
              " key_2              list\n",
              " Key_3    this is column\n",
              " Name: 0, dtype: object)"
            ]
          },
          "metadata": {},
          "execution_count": 32
        }
      ]
    },
    {
      "cell_type": "code",
      "source": [
        "target = df_shuffled[\"key_1\"][2] # this use a key to list a column & use index to find the target on the column\n",
        "target1 = df_shuffled.loc[0]['key_1'] # this use a index to list a row & use key to find the target on the row\n",
        "target2 = df_shuffled.loc[1][1] # this use a index to list a row & use index to find the target on the row\n",
        "target2 = df_shuffled.iloc[1][1] # this use a index to list a row & use index to find the target on the row\n",
        "target, target1, target2\n",
        "\n",
        "\"\"\"\n",
        "difference between loc and iloc is:\n",
        "loc is a label based u can use a string key or a label to find target\n",
        "meanwhile iloc u only can use a index number to find ur target \n",
        "\"\"\""
      ],
      "metadata": {
        "colab": {
          "base_uri": "https://localhost:8080/"
        },
        "id": "GV19QPpcqn_a",
        "outputId": "6e81bc51-085a-4c4e-f796-dff7bac1901f"
      },
      "execution_count": null,
      "outputs": [
        {
          "output_type": "execute_result",
          "data": {
            "text/plain": [
              "('ur ', 'list', 'data')"
            ]
          },
          "metadata": {},
          "execution_count": 43
        }
      ]
    },
    {
      "cell_type": "code",
      "source": [
        "# now lets prepare the X, y\n",
        "X = df_shuffled['key_1']\n",
        "y = df_shuffled['key_2']\n",
        "X,y"
      ],
      "metadata": {
        "colab": {
          "base_uri": "https://localhost:8080/"
        },
        "id": "Cy_n9YYts0gJ",
        "outputId": "9423f92d-4781-459c-8b56-1672f7de64dc"
      },
      "execution_count": null,
      "outputs": [
        {
          "output_type": "execute_result",
          "data": {
            "text/plain": [
              "(1      of\n",
              " 3    data\n",
              " 0    list\n",
              " 2     ur \n",
              " Name: key_1, dtype: object, 1      of\n",
              " 3    data\n",
              " 0    list\n",
              " 2     ur \n",
              " Name: key_2, dtype: object)"
            ]
          },
          "metadata": {},
          "execution_count": 45
        }
      ]
    },
    {
      "cell_type": "markdown",
      "source": [
        "## train & test data split"
      ],
      "metadata": {
        "id": "LkQyJjMQo1oG"
      }
    },
    {
      "cell_type": "code",
      "source": [
        "from sklearn.model_selection import train_test_split\n",
        "\n",
        "X_train, X_test, y_train, y_test = train_test_split(\n",
        "  X, y, test_size=0.2, random_state=42 #0.2 = 20% so its 80% train 20% test\n",
        ")\n",
        "X_train, X_test, y_train, y_test"
      ],
      "metadata": {
        "colab": {
          "base_uri": "https://localhost:8080/"
        },
        "id": "gak2Esz7o8So",
        "outputId": "fec8d50a-20ef-4dbf-ea3e-128fd4b54da0"
      },
      "execution_count": null,
      "outputs": [
        {
          "output_type": "execute_result",
          "data": {
            "text/plain": [
              "(2     ur \n",
              " 1      of\n",
              " 0    list\n",
              " Name: key_1, dtype: object, 3    data\n",
              " Name: key_1, dtype: object, 2     ur \n",
              " 1      of\n",
              " 0    list\n",
              " Name: key_2, dtype: object, 3    data\n",
              " Name: key_2, dtype: object)"
            ]
          },
          "metadata": {},
          "execution_count": 47
        }
      ]
    }
  ]
}